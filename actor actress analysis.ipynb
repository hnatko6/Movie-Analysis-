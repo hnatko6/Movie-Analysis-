{
 "cells": [
  {
   "cell_type": "code",
   "execution_count": 4,
   "metadata": {},
   "outputs": [],
   "source": [
    "import pandas as pd"
   ]
  },
  {
   "cell_type": "code",
   "execution_count": 5,
   "metadata": {},
   "outputs": [],
   "source": [
    "#ouvrir le csv \n",
    "df = pd.read_csv(\"movie_metadata2.csv\", sep=\";\")"
   ]
  },
  {
   "cell_type": "code",
   "execution_count": 6,
   "metadata": {},
   "outputs": [],
   "source": [
    "#concatner les deux listes ensemble\n",
    "df_actors = df['actor_1_name'].tolist() + df['actor_2_name'].tolist()\n",
    "#creer une list vide, pour eliminer la reptition des acteurs \n",
    "nouvelle_list =[]\n",
    "#boucle for pour eliminer les doubles noms\n",
    "for x in df_actors: \n",
    "    if x not in nouvelle_list: \n",
    "        nouvelle_list.append(x)\n",
    "#renomer la nouvelle liste comme avant pour faire les choses plus simple\n",
    "df_actors = nouvelle_list\n"
   ]
  },
  {
   "cell_type": "code",
   "execution_count": null,
   "metadata": {
    "scrolled": false
   },
   "outputs": [],
   "source": [
    "#creation d'un dictionnaire \n",
    "dictionary ={}\n",
    "#boucle pour trouver l'acteur dans la liste df_actors \n",
    "for actor in df_actors: \n",
    "    #trouver les films qui correspond avec le meme acteur dans les deux colonnes \n",
    "    #ensuite ajouter les films dans la vide variable tmp_movie\n",
    "    tmp_movie = df[(df.actor_1_name == actor) | (df.actor_2_name == actor)].movie_title.tolist()\n",
    "    #creation d'une dictionnaire cles actor and films valeurs\n",
    "    dictionary[actor]= tmp_movie\n",
    "    \n",
    "    "
   ]
  },
  {
   "cell_type": "code",
   "execution_count": null,
   "metadata": {},
   "outputs": [],
   "source": [
    "#dictionnaire cle: acteur , valeurs: films \n",
    "dictionary"
   ]
  },
  {
   "cell_type": "code",
   "execution_count": null,
   "metadata": {},
   "outputs": [],
   "source": [
    "#trouver quels acteurs ont joué avec un acteur\n",
    "actor_name = input(\"Écrire prenom et nom d'acteur ou actrice : \")\n",
    "#trouver les films qui correspond avec l'acteur dans input\n",
    "movies = dictionary[actor_name]\n",
    "#liste vide pour les acteurs qui jouent avec l'actor \n",
    "actors_name =[]\n",
    "#trouver l'acteur dans le key de dictionnaire \n",
    "for actor in dictionary.keys():\n",
    "    #list avec tous les films \n",
    "    movie_list = dictionary[actor]\n",
    "    #trouver l'acteur dans movies\n",
    "    for x in movies: \n",
    "        #pour trouver les acteurs qui jouent dans les films\n",
    "        if x in movie_list and actor != actor_name: \n",
    "            actors_name.append(actor)\n",
    "            #pour ne pas repeter les actors dans la liste\n",
    "            break\n",
    "#tirer la liste en alphabetic       \n",
    "x = sorted(actors_name)\n",
    "\n",
    "print(f\"{actor_name} a joué avec les actors suivants:\")\n",
    "#affichage des acteurs ligne par ligne \n",
    "for y in x: \n",
    "    print(y)"
   ]
  },
  {
   "cell_type": "code",
   "execution_count": null,
   "metadata": {},
   "outputs": [],
   "source": []
  },
  {
   "cell_type": "code",
   "execution_count": null,
   "metadata": {},
   "outputs": [],
   "source": []
  }
 ],
 "metadata": {
  "kernelspec": {
   "display_name": "Python 3",
   "language": "python",
   "name": "python3"
  },
  "language_info": {
   "codemirror_mode": {
    "name": "ipython",
    "version": 3
   },
   "file_extension": ".py",
   "mimetype": "text/x-python",
   "name": "python",
   "nbconvert_exporter": "python",
   "pygments_lexer": "ipython3",
   "version": "3.8.5"
  }
 },
 "nbformat": 4,
 "nbformat_minor": 2
}
